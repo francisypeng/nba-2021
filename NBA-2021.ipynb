{
 "cells": [
  {
   "cell_type": "markdown",
   "metadata": {},
   "source": [
    "# NBA 2021 Project\n",
    "### Francis Peng, Annie Seo"
   ]
  },
  {
   "cell_type": "markdown",
   "metadata": {},
   "source": [
    "- Contract/value/net-worth\n",
    "- Shot selection, 2s, 3s, midrange, layup, etc.\n",
    "- Predicting outcomes/win percentage based on midgame stats of indiivudal players.\n"
   ]
  },
  {
   "cell_type": "markdown",
   "metadata": {},
   "source": [
    "We will use the following API which scrapes NBA basketball statistics from basketball-reference.com\n",
    "https://github.com/vishaalagartha/basketball_reference_scraper"
   ]
  },
  {
   "cell_type": "code",
   "execution_count": 4,
   "metadata": {},
   "outputs": [
    {
     "name": "stdout",
     "output_type": "stream",
     "text": [
      "Collecting basketball-reference-scraper\n",
      "  Downloading basketball_reference_scraper-1.0.26-py3-none-any.whl (46 kB)\n",
      "Collecting bs4==0.0.1\n",
      "  Downloading bs4-0.0.1.tar.gz (1.1 kB)\n",
      "Collecting numpy==1.18.1\n",
      "  Downloading numpy-1.18.1-cp38-cp38-win_amd64.whl (12.8 MB)\n",
      "Collecting lxml==4.4.2\n",
      "  Downloading lxml-4.4.2-cp38-cp38-win_amd64.whl (3.7 MB)\n",
      "Collecting pytz==2019.3\n",
      "  Downloading pytz-2019.3-py2.py3-none-any.whl (509 kB)\n",
      "Collecting beautifulsoup4==4.8.2\n",
      "  Downloading beautifulsoup4-4.8.2-py3-none-any.whl (106 kB)\n",
      "Requirement already satisfied: python-dateutil==2.8.1 in c:\\users\\franc\\anaconda3\\lib\\site-packages (from basketball-reference-scraper) (2.8.1)\n",
      "Collecting soupsieve==1.9.5\n",
      "  Downloading soupsieve-1.9.5-py2.py3-none-any.whl (33 kB)\n",
      "Collecting requests==2.22.0\n",
      "  Downloading requests-2.22.0-py2.py3-none-any.whl (57 kB)\n",
      "Collecting pandas==0.25.3\n",
      "  Downloading pandas-0.25.3-cp38-cp38-win_amd64.whl (9.4 MB)\n",
      "Collecting six==1.13.0\n",
      "  Downloading six-1.13.0-py2.py3-none-any.whl (10 kB)\n",
      "Requirement already satisfied: urllib3!=1.25.0,!=1.25.1,<1.26,>=1.21.1 in c:\\users\\franc\\anaconda3\\lib\\site-packages (from requests==2.22.0->basketball-reference-scraper) (1.25.11)\n",
      "Collecting idna<2.9,>=2.5\n",
      "  Downloading idna-2.8-py2.py3-none-any.whl (58 kB)\n",
      "Requirement already satisfied: chardet<3.1.0,>=3.0.2 in c:\\users\\franc\\anaconda3\\lib\\site-packages (from requests==2.22.0->basketball-reference-scraper) (3.0.4)\n",
      "Requirement already satisfied: certifi>=2017.4.17 in c:\\users\\franc\\anaconda3\\lib\\site-packages (from requests==2.22.0->basketball-reference-scraper) (2020.6.20)\n",
      "Building wheels for collected packages: bs4\n",
      "  Building wheel for bs4 (setup.py): started\n",
      "  Building wheel for bs4 (setup.py): finished with status 'done'\n",
      "  Created wheel for bs4: filename=bs4-0.0.1-py3-none-any.whl size=1277 sha256=71bbf1696b2edbec7246741444c8d1ec87abb56ba62fde89f3dbdb083a984ac2\n",
      "  Stored in directory: c:\\users\\franc\\appdata\\local\\pip\\cache\\wheels\\75\\78\\21\\68b124549c9bdc94f822c02fb9aa3578a669843f9767776bca\n",
      "Successfully built bs4\n",
      "Installing collected packages: soupsieve, beautifulsoup4, bs4, numpy, lxml, pytz, idna, requests, pandas, six, basketball-reference-scraper\n",
      "  Attempting uninstall: soupsieve\n",
      "    Found existing installation: soupsieve 2.0.1\n",
      "    Uninstalling soupsieve-2.0.1:\n",
      "      Successfully uninstalled soupsieve-2.0.1\n",
      "  Attempting uninstall: beautifulsoup4\n",
      "    Found existing installation: beautifulsoup4 4.9.3\n",
      "    Uninstalling beautifulsoup4-4.9.3:\n",
      "      Successfully uninstalled beautifulsoup4-4.9.3\n",
      "  Attempting uninstall: numpy\n",
      "    Found existing installation: numpy 1.19.2\n",
      "    Uninstalling numpy-1.19.2:\n",
      "      Successfully uninstalled numpy-1.19.2\n",
      "  Attempting uninstall: lxml\n",
      "    Found existing installation: lxml 4.6.1\n",
      "    Uninstalling lxml-4.6.1:\n",
      "      Successfully uninstalled lxml-4.6.1\n",
      "  Attempting uninstall: pytz\n",
      "    Found existing installation: pytz 2020.1\n",
      "    Uninstalling pytz-2020.1:\n",
      "      Successfully uninstalled pytz-2020.1\n",
      "  Attempting uninstall: idna\n",
      "    Found existing installation: idna 2.10\n",
      "    Uninstalling idna-2.10:\n",
      "      Successfully uninstalled idna-2.10\n",
      "  Attempting uninstall: requests\n",
      "    Found existing installation: requests 2.24.0\n",
      "    Uninstalling requests-2.24.0:\n",
      "      Successfully uninstalled requests-2.24.0\n",
      "  Attempting uninstall: pandas\n",
      "    Found existing installation: pandas 1.1.3\n",
      "    Uninstalling pandas-1.1.3:\n",
      "      Successfully uninstalled pandas-1.1.3\n",
      "  Attempting uninstall: six\n",
      "    Found existing installation: six 1.15.0\n",
      "    Uninstalling six-1.15.0:\n",
      "      Successfully uninstalled six-1.15.0\n",
      "Successfully installed basketball-reference-scraper-1.0.26 beautifulsoup4-4.8.2 bs4-0.0.1 idna-2.8 lxml-4.4.2 numpy-1.18.1 pandas-0.25.3 pytz-2019.3 requests-2.22.0 six-1.13.0 soupsieve-1.9.5\n"
     ]
    }
   ],
   "source": [
    "!pip install basketball-reference-scraper"
   ]
  },
  {
   "cell_type": "code",
   "execution_count": 10,
   "metadata": {},
   "outputs": [
    {
     "name": "stdout",
     "output_type": "stream",
     "text": [
      "Collecting unidecode\n",
      "  Downloading Unidecode-1.2.0-py2.py3-none-any.whl (241 kB)\n",
      "Installing collected packages: unidecode\n",
      "Successfully installed unidecode-1.2.0\n"
     ]
    }
   ],
   "source": [
    "!pip install unidecode"
   ]
  },
  {
   "cell_type": "code",
   "execution_count": 7,
   "metadata": {},
   "outputs": [],
   "source": [
    "# Boilerplate\n",
    "import numpy as np\n",
    "import pandas as pd\n",
    "import matplotlib.pyplot as plt\n",
    "import seaborn as sns\n",
    "import statsmodels.formula.api as smf\n",
    "import scipy.stats as stats\n",
    "from scipy.optimize import minimize\n"
   ]
  },
  {
   "cell_type": "code",
   "execution_count": 12,
   "metadata": {},
   "outputs": [],
   "source": [
    "from basketball_reference_scraper.teams import get_roster, get_team_stats, get_opp_stats, get_roster_stats, get_team_misc\n",
    "from basketball_reference_scraper.players import get_stats, get_game_logs, get_player_headshot\n",
    "from basketball_reference_scraper.seasons import get_schedule, get_standings\n",
    "from basketball_reference_scraper.box_scores import get_box_scores\n",
    "from basketball_reference_scraper.pbp import get_pbp\n",
    "from basketball_reference_scraper.shot_charts import get_shot_chart"
   ]
  },
  {
   "cell_type": "code",
   "execution_count": null,
   "metadata": {},
   "outputs": [],
   "source": []
  }
 ],
 "metadata": {
  "kernelspec": {
   "display_name": "Python 3",
   "language": "python",
   "name": "python3"
  },
  "language_info": {
   "codemirror_mode": {
    "name": "ipython",
    "version": 3
   },
   "file_extension": ".py",
   "mimetype": "text/x-python",
   "name": "python",
   "nbconvert_exporter": "python",
   "pygments_lexer": "ipython3",
   "version": "3.8.5"
  }
 },
 "nbformat": 4,
 "nbformat_minor": 4
}
